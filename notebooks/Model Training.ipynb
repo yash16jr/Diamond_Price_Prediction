{
 "cells": [
  {
   "cell_type": "code",
   "execution_count": 1,
   "id": "285f0fea",
   "metadata": {},
   "outputs": [],
   "source": [
    "import pandas as pd\n",
    "import numpy as np\n",
    "\n",
    "from sklearn.impute import SimpleImputer\n",
    "from sklearn.preprocessing import StandardScaler\n",
    "from sklearn.preprocessing import OrdinalEncoder\n",
    "\n",
    "from sklearn.pipeline import Pipeline\n",
    "from sklearn.compose import ColumnTransformer\n",
    "\n",
    "from sklearn.model_selection import train_test_split\n",
    "\n",
    "from sklearn.linear_model import LinearRegression, Lasso, Ridge,ElasticNet\n",
    "from sklearn.metrics import r2_score, mean_absolute_error, mean_squared_error"
   ]
  },
  {
   "cell_type": "code",
   "execution_count": 3,
   "id": "50bcb2f8",
   "metadata": {},
   "outputs": [],
   "source": [
    "df= pd.read_csv(r\"D:\\Pycharm\\diamond_price_predictor\\notebook\\data\\dataset\\train.csv\")"
   ]
  },
  {
   "cell_type": "code",
   "execution_count": 4,
   "id": "4b2ecf6e",
   "metadata": {},
   "outputs": [
    {
     "data": {
      "text/plain": [
       "(193573, 11)"
      ]
     },
     "execution_count": 4,
     "metadata": {},
     "output_type": "execute_result"
    }
   ],
   "source": [
    "df.shape"
   ]
  },
  {
   "cell_type": "code",
   "execution_count": 5,
   "id": "ccdf4f82",
   "metadata": {},
   "outputs": [],
   "source": [
    "X = df.drop(labels = ['price'] , axis = 1)\n",
    "y = df[['price']]"
   ]
  },
  {
   "cell_type": "code",
   "execution_count": 6,
   "id": "bf17dc73",
   "metadata": {},
   "outputs": [
    {
     "name": "stdout",
     "output_type": "stream",
     "text": [
      "Numerical Columns =  Index(['id', 'carat', 'depth', 'table', 'x', 'y', 'z'], dtype='object')\n",
      "Categorical Columns =  Index(['cut', 'color', 'clarity'], dtype='object')\n"
     ]
    }
   ],
   "source": [
    "num_cols = X.columns[X.dtypes != 'object']\n",
    "cat_cols = X.columns[X.dtypes == 'object']\n",
    "\n",
    "print('Numerical Columns = ' , num_cols)\n",
    "print('Categorical Columns = ' , cat_cols)"
   ]
  },
  {
   "cell_type": "code",
   "execution_count": 7,
   "id": "e64b0c4b",
   "metadata": {},
   "outputs": [],
   "source": [
    "# Ranking 'cut' values according to the cut quality\n",
    "cut_categories = ['Fair',  'Good', 'Very Good' , 'Premium' , 'Ideal' ]\n",
    "#Ideal given the highest order and fair being the lowest\n",
    "\n",
    "# Ranking clarity values\n",
    "clarity_categories = ['I1', 'SI2', 'SI1' , 'VS2' , 'VS1' , 'VVS2' , 'VVS1' , 'IF' ]\n",
    "# I1 given the lowest rank and IF the highest\n",
    "\n",
    "# Ranking the color values\n",
    "color_categories = ['D' , 'E' , 'F' , 'G' , 'H' , 'I' , 'J']\n",
    "# lowest to highest rank                  "
   ]
  },
  {
   "cell_type": "markdown",
   "id": "d11c4255",
   "metadata": {},
   "source": [
    "### Creating Pipelines"
   ]
  },
  {
   "cell_type": "code",
   "execution_count": 8,
   "id": "28bd7ab3",
   "metadata": {},
   "outputs": [],
   "source": [
    "# Numerical Pipelines\n",
    "num_pipeline = Pipeline(\n",
    "        steps  = [\n",
    "            ('imputer', SimpleImputer(strategy= 'median')),\n",
    "            ('scaler' , StandardScaler())\n",
    "        ]\n",
    ")\n",
    "\n",
    "\n",
    "# Categorical Pipelines\n",
    "cat_pipeline = Pipeline(\n",
    "            steps = [\n",
    "                ('imputer' ,SimpleImputer(strategy= 'most_frequent')),\n",
    "                ('ordinal_encoder' , OrdinalEncoder(categories=[cut_categories, color_categories, clarity_categories])),\n",
    "                ('scaler' , StandardScaler() )\n",
    "                \n",
    "            ]\n",
    ")\n",
    "\n",
    "\n",
    "preprocessor = ColumnTransformer([\n",
    "    ('num_pipeline', num_pipeline, num_cols ),\n",
    "    ('cat_pipeline' , cat_pipeline, cat_cols)\n",
    "]\n",
    ")"
   ]
  },
  {
   "cell_type": "markdown",
   "id": "5d717164",
   "metadata": {},
   "source": [
    "### Train test Split"
   ]
  },
  {
   "cell_type": "code",
   "execution_count": 9,
   "id": "f76f2199",
   "metadata": {},
   "outputs": [],
   "source": [
    "X_train, X_test, y_train, y_test = train_test_split(X, y, test_size = 0.3, random_state = 1613)"
   ]
  },
  {
   "cell_type": "markdown",
   "id": "89298c5f",
   "metadata": {},
   "source": [
    "### Transforming"
   ]
  },
  {
   "cell_type": "code",
   "execution_count": 10,
   "id": "f1224bab",
   "metadata": {},
   "outputs": [],
   "source": [
    "X_train = pd.DataFrame(preprocessor.fit_transform(X_train), columns= preprocessor.get_feature_names_out())\n",
    "\n",
    "X_test = pd.DataFrame(preprocessor.transform(X_test), columns= preprocessor.get_feature_names_out())"
   ]
  },
  {
   "cell_type": "code",
   "execution_count": 11,
   "id": "cbcee13f",
   "metadata": {},
   "outputs": [
    {
     "data": {
      "text/html": [
       "<div>\n",
       "<style scoped>\n",
       "    .dataframe tbody tr th:only-of-type {\n",
       "        vertical-align: middle;\n",
       "    }\n",
       "\n",
       "    .dataframe tbody tr th {\n",
       "        vertical-align: top;\n",
       "    }\n",
       "\n",
       "    .dataframe thead th {\n",
       "        text-align: right;\n",
       "    }\n",
       "</style>\n",
       "<table border=\"1\" class=\"dataframe\">\n",
       "  <thead>\n",
       "    <tr style=\"text-align: right;\">\n",
       "      <th></th>\n",
       "      <th>num_pipeline__id</th>\n",
       "      <th>num_pipeline__carat</th>\n",
       "      <th>num_pipeline__depth</th>\n",
       "      <th>num_pipeline__table</th>\n",
       "      <th>num_pipeline__x</th>\n",
       "      <th>num_pipeline__y</th>\n",
       "      <th>num_pipeline__z</th>\n",
       "      <th>cat_pipeline__cut</th>\n",
       "      <th>cat_pipeline__color</th>\n",
       "      <th>cat_pipeline__clarity</th>\n",
       "    </tr>\n",
       "  </thead>\n",
       "  <tbody>\n",
       "    <tr>\n",
       "      <th>0</th>\n",
       "      <td>-0.666604</td>\n",
       "      <td>-1.041934</td>\n",
       "      <td>0.353366</td>\n",
       "      <td>-2.101834</td>\n",
       "      <td>-1.269950</td>\n",
       "      <td>-1.246037</td>\n",
       "      <td>-1.211727</td>\n",
       "      <td>0.873353</td>\n",
       "      <td>-0.321260</td>\n",
       "      <td>0.017539</td>\n",
       "    </tr>\n",
       "    <tr>\n",
       "      <th>1</th>\n",
       "      <td>-1.215055</td>\n",
       "      <td>0.235044</td>\n",
       "      <td>-0.384779</td>\n",
       "      <td>0.401858</td>\n",
       "      <td>0.480094</td>\n",
       "      <td>0.433513</td>\n",
       "      <td>0.427076</td>\n",
       "      <td>-1.141188</td>\n",
       "      <td>0.294812</td>\n",
       "      <td>-1.314206</td>\n",
       "    </tr>\n",
       "    <tr>\n",
       "      <th>2</th>\n",
       "      <td>1.530523</td>\n",
       "      <td>-0.132899</td>\n",
       "      <td>-0.753852</td>\n",
       "      <td>0.923461</td>\n",
       "      <td>0.101219</td>\n",
       "      <td>0.061288</td>\n",
       "      <td>0.006498</td>\n",
       "      <td>-0.133918</td>\n",
       "      <td>-1.553405</td>\n",
       "      <td>0.017539</td>\n",
       "    </tr>\n",
       "    <tr>\n",
       "      <th>3</th>\n",
       "      <td>1.141436</td>\n",
       "      <td>-0.024680</td>\n",
       "      <td>0.261098</td>\n",
       "      <td>-0.641347</td>\n",
       "      <td>0.137302</td>\n",
       "      <td>0.179311</td>\n",
       "      <td>0.166028</td>\n",
       "      <td>0.873353</td>\n",
       "      <td>0.294812</td>\n",
       "      <td>-0.648334</td>\n",
       "    </tr>\n",
       "    <tr>\n",
       "      <th>4</th>\n",
       "      <td>-1.717761</td>\n",
       "      <td>-0.197830</td>\n",
       "      <td>0.906975</td>\n",
       "      <td>-0.119744</td>\n",
       "      <td>-0.061157</td>\n",
       "      <td>-0.029498</td>\n",
       "      <td>0.035504</td>\n",
       "      <td>-1.141188</td>\n",
       "      <td>-0.937333</td>\n",
       "      <td>-0.648334</td>\n",
       "    </tr>\n",
       "  </tbody>\n",
       "</table>\n",
       "</div>"
      ],
      "text/plain": [
       "   num_pipeline__id  num_pipeline__carat  num_pipeline__depth   \n",
       "0         -0.666604            -1.041934             0.353366  \\\n",
       "1         -1.215055             0.235044            -0.384779   \n",
       "2          1.530523            -0.132899            -0.753852   \n",
       "3          1.141436            -0.024680             0.261098   \n",
       "4         -1.717761            -0.197830             0.906975   \n",
       "\n",
       "   num_pipeline__table  num_pipeline__x  num_pipeline__y  num_pipeline__z   \n",
       "0            -2.101834        -1.269950        -1.246037        -1.211727  \\\n",
       "1             0.401858         0.480094         0.433513         0.427076   \n",
       "2             0.923461         0.101219         0.061288         0.006498   \n",
       "3            -0.641347         0.137302         0.179311         0.166028   \n",
       "4            -0.119744        -0.061157        -0.029498         0.035504   \n",
       "\n",
       "   cat_pipeline__cut  cat_pipeline__color  cat_pipeline__clarity  \n",
       "0           0.873353            -0.321260               0.017539  \n",
       "1          -1.141188             0.294812              -1.314206  \n",
       "2          -0.133918            -1.553405               0.017539  \n",
       "3           0.873353             0.294812              -0.648334  \n",
       "4          -1.141188            -0.937333              -0.648334  "
      ]
     },
     "execution_count": 11,
     "metadata": {},
     "output_type": "execute_result"
    }
   ],
   "source": [
    "X_train.head()"
   ]
  },
  {
   "cell_type": "markdown",
   "id": "d5f3574a",
   "metadata": {},
   "source": [
    "### Model Selection"
   ]
  },
  {
   "cell_type": "code",
   "execution_count": 12,
   "id": "6b5c3e25",
   "metadata": {},
   "outputs": [
    {
     "data": {
      "text/html": [
       "<style>#sk-container-id-1 {color: black;background-color: white;}#sk-container-id-1 pre{padding: 0;}#sk-container-id-1 div.sk-toggleable {background-color: white;}#sk-container-id-1 label.sk-toggleable__label {cursor: pointer;display: block;width: 100%;margin-bottom: 0;padding: 0.3em;box-sizing: border-box;text-align: center;}#sk-container-id-1 label.sk-toggleable__label-arrow:before {content: \"▸\";float: left;margin-right: 0.25em;color: #696969;}#sk-container-id-1 label.sk-toggleable__label-arrow:hover:before {color: black;}#sk-container-id-1 div.sk-estimator:hover label.sk-toggleable__label-arrow:before {color: black;}#sk-container-id-1 div.sk-toggleable__content {max-height: 0;max-width: 0;overflow: hidden;text-align: left;background-color: #f0f8ff;}#sk-container-id-1 div.sk-toggleable__content pre {margin: 0.2em;color: black;border-radius: 0.25em;background-color: #f0f8ff;}#sk-container-id-1 input.sk-toggleable__control:checked~div.sk-toggleable__content {max-height: 200px;max-width: 100%;overflow: auto;}#sk-container-id-1 input.sk-toggleable__control:checked~label.sk-toggleable__label-arrow:before {content: \"▾\";}#sk-container-id-1 div.sk-estimator input.sk-toggleable__control:checked~label.sk-toggleable__label {background-color: #d4ebff;}#sk-container-id-1 div.sk-label input.sk-toggleable__control:checked~label.sk-toggleable__label {background-color: #d4ebff;}#sk-container-id-1 input.sk-hidden--visually {border: 0;clip: rect(1px 1px 1px 1px);clip: rect(1px, 1px, 1px, 1px);height: 1px;margin: -1px;overflow: hidden;padding: 0;position: absolute;width: 1px;}#sk-container-id-1 div.sk-estimator {font-family: monospace;background-color: #f0f8ff;border: 1px dotted black;border-radius: 0.25em;box-sizing: border-box;margin-bottom: 0.5em;}#sk-container-id-1 div.sk-estimator:hover {background-color: #d4ebff;}#sk-container-id-1 div.sk-parallel-item::after {content: \"\";width: 100%;border-bottom: 1px solid gray;flex-grow: 1;}#sk-container-id-1 div.sk-label:hover label.sk-toggleable__label {background-color: #d4ebff;}#sk-container-id-1 div.sk-serial::before {content: \"\";position: absolute;border-left: 1px solid gray;box-sizing: border-box;top: 0;bottom: 0;left: 50%;z-index: 0;}#sk-container-id-1 div.sk-serial {display: flex;flex-direction: column;align-items: center;background-color: white;padding-right: 0.2em;padding-left: 0.2em;position: relative;}#sk-container-id-1 div.sk-item {position: relative;z-index: 1;}#sk-container-id-1 div.sk-parallel {display: flex;align-items: stretch;justify-content: center;background-color: white;position: relative;}#sk-container-id-1 div.sk-item::before, #sk-container-id-1 div.sk-parallel-item::before {content: \"\";position: absolute;border-left: 1px solid gray;box-sizing: border-box;top: 0;bottom: 0;left: 50%;z-index: -1;}#sk-container-id-1 div.sk-parallel-item {display: flex;flex-direction: column;z-index: 1;position: relative;background-color: white;}#sk-container-id-1 div.sk-parallel-item:first-child::after {align-self: flex-end;width: 50%;}#sk-container-id-1 div.sk-parallel-item:last-child::after {align-self: flex-start;width: 50%;}#sk-container-id-1 div.sk-parallel-item:only-child::after {width: 0;}#sk-container-id-1 div.sk-dashed-wrapped {border: 1px dashed gray;margin: 0 0.4em 0.5em 0.4em;box-sizing: border-box;padding-bottom: 0.4em;background-color: white;}#sk-container-id-1 div.sk-label label {font-family: monospace;font-weight: bold;display: inline-block;line-height: 1.2em;}#sk-container-id-1 div.sk-label-container {text-align: center;}#sk-container-id-1 div.sk-container {/* jupyter's `normalize.less` sets `[hidden] { display: none; }` but bootstrap.min.css set `[hidden] { display: none !important; }` so we also need the `!important` here to be able to override the default hidden behavior on the sphinx rendered scikit-learn.org. See: https://github.com/scikit-learn/scikit-learn/issues/21755 */display: inline-block !important;position: relative;}#sk-container-id-1 div.sk-text-repr-fallback {display: none;}</style><div id=\"sk-container-id-1\" class=\"sk-top-container\"><div class=\"sk-text-repr-fallback\"><pre>LinearRegression()</pre><b>In a Jupyter environment, please rerun this cell to show the HTML representation or trust the notebook. <br />On GitHub, the HTML representation is unable to render, please try loading this page with nbviewer.org.</b></div><div class=\"sk-container\" hidden><div class=\"sk-item\"><div class=\"sk-estimator sk-toggleable\"><input class=\"sk-toggleable__control sk-hidden--visually\" id=\"sk-estimator-id-1\" type=\"checkbox\" checked><label for=\"sk-estimator-id-1\" class=\"sk-toggleable__label sk-toggleable__label-arrow\">LinearRegression</label><div class=\"sk-toggleable__content\"><pre>LinearRegression()</pre></div></div></div></div></div>"
      ],
      "text/plain": [
       "LinearRegression()"
      ]
     },
     "execution_count": 12,
     "metadata": {},
     "output_type": "execute_result"
    }
   ],
   "source": [
    "linear_reg = LinearRegression()\n",
    "linear_reg.fit(X_train, y_train)"
   ]
  },
  {
   "cell_type": "code",
   "execution_count": 13,
   "id": "38ecc40b",
   "metadata": {},
   "outputs": [
    {
     "name": "stdout",
     "output_type": "stream",
     "text": [
      "[[ 4.65143976e-01  6.39917723e+03 -1.31585343e+02 -6.77787455e+01\n",
      "  -1.74540487e+03 -4.42166999e+02 -6.48006016e+01  7.13223594e+01\n",
      "  -4.66512654e+02  6.55150439e+02]]\n"
     ]
    }
   ],
   "source": [
    "print(linear_reg.coef_)"
   ]
  },
  {
   "cell_type": "code",
   "execution_count": 14,
   "id": "bff2af4f",
   "metadata": {},
   "outputs": [
    {
     "name": "stdout",
     "output_type": "stream",
     "text": [
      "[3972.91352831]\n"
     ]
    }
   ],
   "source": [
    "print(linear_reg.intercept_)"
   ]
  },
  {
   "cell_type": "code",
   "execution_count": 15,
   "id": "90803dd4",
   "metadata": {},
   "outputs": [],
   "source": [
    "def evaluate_model(true, predicted):\n",
    "    mae = mean_absolute_error(true, predicted)\n",
    "    mse = mean_squared_error(true, predicted)\n",
    "    rmse = np.sqrt(mean_squared_error(true, predicted))\n",
    "    r2_sq = r2_score(true, predicted)\n",
    "    \n",
    "    return mae, rmse, r2_sq"
   ]
  },
  {
   "cell_type": "code",
   "execution_count": 16,
   "id": "a2550892",
   "metadata": {},
   "outputs": [
    {
     "name": "stdout",
     "output_type": "stream",
     "text": [
      "linear_reg\n",
      "Model Training Performance\n",
      "RMSE : 1020.1817969017212\n",
      "MAE : 680.288729817892\n",
      "R2_score : 93.6638767066512\n",
      "=========================================\n",
      "\n",
      "\n",
      "lasso\n",
      "Model Training Performance\n",
      "RMSE : 1020.3671297450252\n",
      "MAE : 681.4981941395923\n",
      "R2_score : 93.66157437502015\n",
      "=========================================\n",
      "\n",
      "\n",
      "ridge\n",
      "Model Training Performance\n",
      "RMSE : 1020.1867804981565\n",
      "MAE : 680.3222438426384\n",
      "R2_score : 93.6638148024716\n",
      "=========================================\n",
      "\n",
      "\n",
      "elastic_net\n",
      "Model Training Performance\n",
      "RMSE : 1545.4507373364113\n",
      "MAE : 1065.4789720149554\n",
      "R2_score : 85.45951772333332\n",
      "=========================================\n",
      "\n",
      "\n"
     ]
    }
   ],
   "source": [
    "models = {\n",
    "    'linear_reg' : LinearRegression(),\n",
    "    'lasso' : Lasso(),\n",
    "    'ridge' : Ridge(),\n",
    "    'elastic_net' : ElasticNet()\n",
    "}\n",
    "\n",
    "trained_model = []\n",
    "model_list = []\n",
    "r2_list = []\n",
    "\n",
    "for i in range(len(list(models))):\n",
    "    model = list(models.values())[i]\n",
    "    model.fit(X_train, y_train)\n",
    "    \n",
    "    y_pred = model.predict(X_test)\n",
    "    \n",
    "    mae, rmse, r2_square = evaluate_model(y_test, y_pred)\n",
    "    \n",
    "    print(list(models.keys())[i])\n",
    "    model_list.append(list(models.keys())[i])\n",
    "    \n",
    "    print('Model Training Performance')\n",
    "    print('RMSE :' , rmse)\n",
    "    print('MAE :', mae)\n",
    "    print('R2_score :' , r2_square*100)\n",
    "    \n",
    "    r2_list.append(r2_square)\n",
    "    \n",
    "    print('=========================================')\n",
    "    print('\\n')\n",
    "    "
   ]
  },
  {
   "cell_type": "code",
   "execution_count": null,
   "id": "695353fe",
   "metadata": {},
   "outputs": [],
   "source": []
  }
 ],
 "metadata": {
  "kernelspec": {
   "display_name": "environ",
   "language": "python",
   "name": "environ"
  },
  "language_info": {
   "codemirror_mode": {
    "name": "ipython",
    "version": 3
   },
   "file_extension": ".py",
   "mimetype": "text/x-python",
   "name": "python",
   "nbconvert_exporter": "python",
   "pygments_lexer": "ipython3",
   "version": "3.9.16"
  }
 },
 "nbformat": 4,
 "nbformat_minor": 5
}
